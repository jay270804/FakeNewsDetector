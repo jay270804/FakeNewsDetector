{
 "cells": [
  {
   "cell_type": "code",
   "execution_count": 2,
   "metadata": {},
   "outputs": [],
   "source": [
    "import pandas as pd"
   ]
  },
  {
   "cell_type": "code",
   "execution_count": 3,
   "metadata": {},
   "outputs": [
    {
     "name": "stdout",
     "output_type": "stream",
     "text": [
      "True Claims:2053\n",
      "False Claims:2504\n",
      "Half true Claims:2627\n"
     ]
    }
   ],
   "source": [
    "\n",
    "LIAR = pd.read_csv(\"data/LIAR_Dataset.csv\")\n",
    "LIAR.rename(columns={'statement':\"title\"}, inplace=True)\n",
    "liar_true_len = len(LIAR.loc[LIAR['label'] == \"TRUE\"])\n",
    "liar_false_len = len(LIAR.loc[LIAR['label'] == \"FALSE\"])\n",
    "liar_half_true_len = len(LIAR.loc[LIAR['label'] == \"half-true\"])\n",
    "print(f\"True Claims:{liar_true_len}\")\n",
    "print(f\"False Claims:{liar_false_len}\")\n",
    "print(f\"Half true Claims:{liar_half_true_len}\")\n",
    "\n",
    "label_mapping = {\n",
    "    \"pants-fire\": \"FALSE\",\n",
    "    \"barely-true\": \"FALSE\",\n",
    "    \"half-true\": \"TRUE\",\n",
    "    \"mostly-true\": \"TRUE\"\n",
    "}\n",
    "\n",
    "LIAR['label'] = LIAR['label'].replace(label_mapping)\n",
    "\n",
    "# print(LIAR)"
   ]
  },
  {
   "cell_type": "code",
   "execution_count": 4,
   "metadata": {},
   "outputs": [
    {
     "name": "stdout",
     "output_type": "stream",
     "text": [
      "Politifact False Claims: 432\n"
     ]
    },
    {
     "data": {
      "text/html": [
       "<div>\n",
       "<style scoped>\n",
       "    .dataframe tbody tr th:only-of-type {\n",
       "        vertical-align: middle;\n",
       "    }\n",
       "\n",
       "    .dataframe tbody tr th {\n",
       "        vertical-align: top;\n",
       "    }\n",
       "\n",
       "    .dataframe thead th {\n",
       "        text-align: right;\n",
       "    }\n",
       "</style>\n",
       "<table border=\"1\" class=\"dataframe\">\n",
       "  <thead>\n",
       "    <tr style=\"text-align: right;\">\n",
       "      <th></th>\n",
       "      <th>id</th>\n",
       "      <th>news_url</th>\n",
       "      <th>title</th>\n",
       "      <th>tweet_ids</th>\n",
       "      <th>label</th>\n",
       "    </tr>\n",
       "  </thead>\n",
       "  <tbody>\n",
       "    <tr>\n",
       "      <th>0</th>\n",
       "      <td>politifact15014</td>\n",
       "      <td>speedtalk.com/forum/viewtopic.php?t=51650</td>\n",
       "      <td>BREAKING: First NFL Team Declares Bankruptcy O...</td>\n",
       "      <td>937349434668498944\\t937379378006282240\\t937380...</td>\n",
       "      <td>FALSE</td>\n",
       "    </tr>\n",
       "  </tbody>\n",
       "</table>\n",
       "</div>"
      ],
      "text/plain": [
       "                id                                   news_url  \\\n",
       "0  politifact15014  speedtalk.com/forum/viewtopic.php?t=51650   \n",
       "\n",
       "                                               title  \\\n",
       "0  BREAKING: First NFL Team Declares Bankruptcy O...   \n",
       "\n",
       "                                           tweet_ids  label  \n",
       "0  937349434668498944\\t937379378006282240\\t937380...  FALSE  "
      ]
     },
     "execution_count": 4,
     "metadata": {},
     "output_type": "execute_result"
    }
   ],
   "source": [
    "POLI_FAKE = pd.read_csv(\"data/politifact_fake.csv\")\n",
    "POLI_FAKE['label'] = \"FALSE\"\n",
    "poli_false_len = len(POLI_FAKE)\n",
    "print(f\"Politifact False Claims: {poli_false_len}\")\n",
    "POLI_FAKE.head(1)"
   ]
  },
  {
   "cell_type": "code",
   "execution_count": 5,
   "metadata": {},
   "outputs": [
    {
     "name": "stdout",
     "output_type": "stream",
     "text": [
      "Politifact True Claims: 624\n"
     ]
    },
    {
     "data": {
      "text/html": [
       "<div>\n",
       "<style scoped>\n",
       "    .dataframe tbody tr th:only-of-type {\n",
       "        vertical-align: middle;\n",
       "    }\n",
       "\n",
       "    .dataframe tbody tr th {\n",
       "        vertical-align: top;\n",
       "    }\n",
       "\n",
       "    .dataframe thead th {\n",
       "        text-align: right;\n",
       "    }\n",
       "</style>\n",
       "<table border=\"1\" class=\"dataframe\">\n",
       "  <thead>\n",
       "    <tr style=\"text-align: right;\">\n",
       "      <th></th>\n",
       "      <th>id</th>\n",
       "      <th>news_url</th>\n",
       "      <th>title</th>\n",
       "      <th>tweet_ids</th>\n",
       "      <th>label</th>\n",
       "    </tr>\n",
       "  </thead>\n",
       "  <tbody>\n",
       "    <tr>\n",
       "      <th>0</th>\n",
       "      <td>politifact14984</td>\n",
       "      <td>http://www.nfib-sbet.org/</td>\n",
       "      <td>National Federation of Independent Business</td>\n",
       "      <td>967132259869487105\\t967164368768196609\\t967215...</td>\n",
       "      <td>TRUE</td>\n",
       "    </tr>\n",
       "  </tbody>\n",
       "</table>\n",
       "</div>"
      ],
      "text/plain": [
       "                id                   news_url  \\\n",
       "0  politifact14984  http://www.nfib-sbet.org/   \n",
       "\n",
       "                                         title  \\\n",
       "0  National Federation of Independent Business   \n",
       "\n",
       "                                           tweet_ids label  \n",
       "0  967132259869487105\\t967164368768196609\\t967215...  TRUE  "
      ]
     },
     "execution_count": 5,
     "metadata": {},
     "output_type": "execute_result"
    }
   ],
   "source": [
    "POLI_REAL = pd.read_csv(\"data/politifact_real.csv\")\n",
    "POLI_REAL['label'] = \"TRUE\"\n",
    "\n",
    "poli_true_len = len(POLI_REAL)\n",
    "\n",
    "print(f\"Politifact True Claims: {len(POLI_REAL)}\")\n",
    "POLI_REAL.head(1)"
   ]
  },
  {
   "cell_type": "code",
   "execution_count": 6,
   "metadata": {},
   "outputs": [
    {
     "name": "stdout",
     "output_type": "stream",
     "text": [
      "Gossipcop False Claims: 5323\n"
     ]
    },
    {
     "data": {
      "text/html": [
       "<div>\n",
       "<style scoped>\n",
       "    .dataframe tbody tr th:only-of-type {\n",
       "        vertical-align: middle;\n",
       "    }\n",
       "\n",
       "    .dataframe tbody tr th {\n",
       "        vertical-align: top;\n",
       "    }\n",
       "\n",
       "    .dataframe thead th {\n",
       "        text-align: right;\n",
       "    }\n",
       "</style>\n",
       "<table border=\"1\" class=\"dataframe\">\n",
       "  <thead>\n",
       "    <tr style=\"text-align: right;\">\n",
       "      <th></th>\n",
       "      <th>id</th>\n",
       "      <th>news_url</th>\n",
       "      <th>title</th>\n",
       "      <th>tweet_ids</th>\n",
       "      <th>label</th>\n",
       "    </tr>\n",
       "  </thead>\n",
       "  <tbody>\n",
       "    <tr>\n",
       "      <th>0</th>\n",
       "      <td>gossipcop-2493749932</td>\n",
       "      <td>www.dailymail.co.uk/tvshowbiz/article-5874213/...</td>\n",
       "      <td>Did Miley Cyrus and Liam Hemsworth secretly ge...</td>\n",
       "      <td>284329075902926848\\t284332744559968256\\t284335...</td>\n",
       "      <td>FALSE</td>\n",
       "    </tr>\n",
       "  </tbody>\n",
       "</table>\n",
       "</div>"
      ],
      "text/plain": [
       "                     id                                           news_url  \\\n",
       "0  gossipcop-2493749932  www.dailymail.co.uk/tvshowbiz/article-5874213/...   \n",
       "\n",
       "                                               title  \\\n",
       "0  Did Miley Cyrus and Liam Hemsworth secretly ge...   \n",
       "\n",
       "                                           tweet_ids  label  \n",
       "0  284329075902926848\\t284332744559968256\\t284335...  FALSE  "
      ]
     },
     "execution_count": 6,
     "metadata": {},
     "output_type": "execute_result"
    }
   ],
   "source": [
    "GOSSIP_FAKE = pd.read_csv(\"data/gossipcop_fake.csv\")\n",
    "GOSSIP_FAKE['label'] = \"FALSE\"\n",
    "\n",
    "\n",
    "gossip_false_len = len(GOSSIP_FAKE)\n",
    "print(f\"Gossipcop False Claims: {gossip_false_len}\")\n",
    "GOSSIP_FAKE.head(1)\n"
   ]
  },
  {
   "cell_type": "code",
   "execution_count": 7,
   "metadata": {},
   "outputs": [
    {
     "name": "stdout",
     "output_type": "stream",
     "text": [
      "Gossipcop True Claims: 16817\n"
     ]
    },
    {
     "data": {
      "text/html": [
       "<div>\n",
       "<style scoped>\n",
       "    .dataframe tbody tr th:only-of-type {\n",
       "        vertical-align: middle;\n",
       "    }\n",
       "\n",
       "    .dataframe tbody tr th {\n",
       "        vertical-align: top;\n",
       "    }\n",
       "\n",
       "    .dataframe thead th {\n",
       "        text-align: right;\n",
       "    }\n",
       "</style>\n",
       "<table border=\"1\" class=\"dataframe\">\n",
       "  <thead>\n",
       "    <tr style=\"text-align: right;\">\n",
       "      <th></th>\n",
       "      <th>id</th>\n",
       "      <th>news_url</th>\n",
       "      <th>title</th>\n",
       "      <th>tweet_ids</th>\n",
       "      <th>label</th>\n",
       "    </tr>\n",
       "  </thead>\n",
       "  <tbody>\n",
       "    <tr>\n",
       "      <th>0</th>\n",
       "      <td>gossipcop-882573</td>\n",
       "      <td>https://www.brides.com/story/teen-mom-jenelle-...</td>\n",
       "      <td>Teen Mom Star Jenelle Evans' Wedding Dress Is ...</td>\n",
       "      <td>912371411146149888\\t912371528343408641\\t912372...</td>\n",
       "      <td>TRUE</td>\n",
       "    </tr>\n",
       "  </tbody>\n",
       "</table>\n",
       "</div>"
      ],
      "text/plain": [
       "                 id                                           news_url  \\\n",
       "0  gossipcop-882573  https://www.brides.com/story/teen-mom-jenelle-...   \n",
       "\n",
       "                                               title  \\\n",
       "0  Teen Mom Star Jenelle Evans' Wedding Dress Is ...   \n",
       "\n",
       "                                           tweet_ids label  \n",
       "0  912371411146149888\\t912371528343408641\\t912372...  TRUE  "
      ]
     },
     "execution_count": 7,
     "metadata": {},
     "output_type": "execute_result"
    }
   ],
   "source": [
    "GOSSIP_REAL = pd.read_csv(\"data/gossipcop_real.csv\")\n",
    "GOSSIP_REAL['label'] = \"TRUE\"\n",
    "\n",
    "gossip_true_len = len(GOSSIP_REAL)\n",
    "print(f\"Gossipcop True Claims: {gossip_true_len}\")\n",
    "GOSSIP_REAL.head(1)\n"
   ]
  },
  {
   "cell_type": "code",
   "execution_count": 8,
   "metadata": {},
   "outputs": [
    {
     "name": "stdout",
     "output_type": "stream",
     "text": [
      "Total True claims: 19494\n",
      "Total False claims: 8259\n"
     ]
    }
   ],
   "source": [
    "total_true_len = liar_true_len + poli_true_len + gossip_true_len\n",
    "total_false_len = liar_false_len + poli_false_len + gossip_false_len\n",
    "\n",
    "print(f\"Total True claims: {total_true_len}\")\n",
    "print(f\"Total False claims: {total_false_len}\")\n"
   ]
  },
  {
   "cell_type": "code",
   "execution_count": 9,
   "metadata": {},
   "outputs": [],
   "source": [
    "LIAR['source'] = \"LIAR\"\n",
    "POLI_FAKE['source'] = \"POLITIFACT_FAKE\"\n",
    "POLI_REAL['source'] = \"POLITIFACT_REAL\"\n",
    "GOSSIP_FAKE['source'] = \"GOSSIP_FAKE\"\n",
    "GOSSIP_REAL['source'] = \"GOSSIP_REAL\"\n",
    "\n",
    "aggregated_df = pd.concat([\n",
    "    LIAR[[\"source\",\"title\",\"label\"]],\n",
    "    POLI_FAKE[[\"source\",\"title\",\"label\"]],\n",
    "    POLI_REAL[[\"source\",\"title\",\"label\"]],\n",
    "    GOSSIP_REAL[[\"source\",\"title\",\"label\"]],\n",
    "    GOSSIP_FAKE[[\"source\",\"title\",\"label\"]],\n",
    "], ignore_index=True)"
   ]
  },
  {
   "cell_type": "code",
   "execution_count": 10,
   "metadata": {},
   "outputs": [
    {
     "data": {
      "text/html": [
       "<div>\n",
       "<style scoped>\n",
       "    .dataframe tbody tr th:only-of-type {\n",
       "        vertical-align: middle;\n",
       "    }\n",
       "\n",
       "    .dataframe tbody tr th {\n",
       "        vertical-align: top;\n",
       "    }\n",
       "\n",
       "    .dataframe thead th {\n",
       "        text-align: right;\n",
       "    }\n",
       "</style>\n",
       "<table border=\"1\" class=\"dataframe\">\n",
       "  <thead>\n",
       "    <tr style=\"text-align: right;\">\n",
       "      <th></th>\n",
       "      <th>source</th>\n",
       "      <th>title</th>\n",
       "      <th>label</th>\n",
       "    </tr>\n",
       "  </thead>\n",
       "  <tbody>\n",
       "    <tr>\n",
       "      <th>2560</th>\n",
       "      <td>LIAR</td>\n",
       "      <td>Tonight in Ohio, more people came out to vote ...</td>\n",
       "      <td>FALSE</td>\n",
       "    </tr>\n",
       "  </tbody>\n",
       "</table>\n",
       "</div>"
      ],
      "text/plain": [
       "     source                                              title  label\n",
       "2560   LIAR  Tonight in Ohio, more people came out to vote ...  FALSE"
      ]
     },
     "execution_count": 10,
     "metadata": {},
     "output_type": "execute_result"
    }
   ],
   "source": [
    "# aggregated_df.loc[aggregated_df['source'] == \"POLITIFACT_FAKE\", \"title\"].head(5)\n",
    "aggregated_df.loc[aggregated_df['title']==\"Tonight in Ohio, more people came out to vote for Barack Obama in an unopposed race than voted for (Mitt) Romney and (Rick) Santorum combined.\"]"
   ]
  },
  {
   "cell_type": "code",
   "execution_count": 11,
   "metadata": {},
   "outputs": [
    {
     "data": {
      "text/plain": [
       "array(['TRUE', 'FALSE'], dtype=object)"
      ]
     },
     "execution_count": 11,
     "metadata": {},
     "output_type": "execute_result"
    }
   ],
   "source": [
    "aggregated_df['label'].unique()"
   ]
  },
  {
   "cell_type": "code",
   "execution_count": 12,
   "metadata": {},
   "outputs": [],
   "source": [
    "aggregated_df.dropna(subset=['title','label'], inplace=True)"
   ]
  },
  {
   "cell_type": "code",
   "execution_count": 13,
   "metadata": {},
   "outputs": [
    {
     "data": {
      "text/plain": [
       "35983"
      ]
     },
     "execution_count": 13,
     "metadata": {},
     "output_type": "execute_result"
    }
   ],
   "source": [
    "len(aggregated_df)"
   ]
  },
  {
   "cell_type": "code",
   "execution_count": 14,
   "metadata": {},
   "outputs": [],
   "source": [
    "# Drop the duplicates titles from the dataset\n",
    "aggregated_df.drop_duplicates(subset=['title'], inplace=True)"
   ]
  },
  {
   "cell_type": "code",
   "execution_count": null,
   "metadata": {},
   "outputs": [
    {
     "name": "stdout",
     "output_type": "stream",
     "text": [
      "Length of Aggregated DF:34485\n",
      "Length of TRUE DF:23644\n"
     ]
    }
   ],
   "source": [
    "print(f\"Length of Aggregated DF:{len(aggregated_df)}\")\n",
    "true_df = aggregated_df[aggregated_df['label'] == \"TRUE\"]\n",
    "\n",
    "print(f\"Length of TRUE DF:{len(true_df)}\")\n",
    "# true_df.to_csv(\"data/Real_df_for_RAFC.csv\", index=False)\n",
    "# true_df['label'].unique()\n"
   ]
  },
  {
   "cell_type": "code",
   "execution_count": null,
   "metadata": {},
   "outputs": [
    {
     "data": {
      "text/html": [
       "<div>\n",
       "<style scoped>\n",
       "    .dataframe tbody tr th:only-of-type {\n",
       "        vertical-align: middle;\n",
       "    }\n",
       "\n",
       "    .dataframe tbody tr th {\n",
       "        vertical-align: top;\n",
       "    }\n",
       "\n",
       "    .dataframe thead th {\n",
       "        text-align: right;\n",
       "    }\n",
       "</style>\n",
       "<table border=\"1\" class=\"dataframe\">\n",
       "  <thead>\n",
       "    <tr style=\"text-align: right;\">\n",
       "      <th></th>\n",
       "      <th>source</th>\n",
       "      <th>title</th>\n",
       "      <th>label</th>\n",
       "    </tr>\n",
       "  </thead>\n",
       "  <tbody>\n",
       "    <tr>\n",
       "      <th>0</th>\n",
       "      <td>LIAR</td>\n",
       "      <td>Building a wall on the U.S.-Mexico border will...</td>\n",
       "      <td>TRUE</td>\n",
       "    </tr>\n",
       "    <tr>\n",
       "      <th>1</th>\n",
       "      <td>LIAR</td>\n",
       "      <td>Wisconsin is on pace to double the number of l...</td>\n",
       "      <td>FALSE</td>\n",
       "    </tr>\n",
       "    <tr>\n",
       "      <th>2</th>\n",
       "      <td>LIAR</td>\n",
       "      <td>Says John McCain has done nothing to help the ...</td>\n",
       "      <td>FALSE</td>\n",
       "    </tr>\n",
       "    <tr>\n",
       "      <th>3</th>\n",
       "      <td>LIAR</td>\n",
       "      <td>Suzanne Bonamici supports a plan that will cut...</td>\n",
       "      <td>TRUE</td>\n",
       "    </tr>\n",
       "    <tr>\n",
       "      <th>4</th>\n",
       "      <td>LIAR</td>\n",
       "      <td>When asked by a reporter whether hes at the ce...</td>\n",
       "      <td>FALSE</td>\n",
       "    </tr>\n",
       "    <tr>\n",
       "      <th>5</th>\n",
       "      <td>LIAR</td>\n",
       "      <td>Over the past five years the federal governmen...</td>\n",
       "      <td>TRUE</td>\n",
       "    </tr>\n",
       "    <tr>\n",
       "      <th>6</th>\n",
       "      <td>LIAR</td>\n",
       "      <td>Says that Tennessee law requires that schools ...</td>\n",
       "      <td>TRUE</td>\n",
       "    </tr>\n",
       "    <tr>\n",
       "      <th>7</th>\n",
       "      <td>LIAR</td>\n",
       "      <td>Says Vice President Joe Biden \"admits that the...</td>\n",
       "      <td>FALSE</td>\n",
       "    </tr>\n",
       "    <tr>\n",
       "      <th>8</th>\n",
       "      <td>LIAR</td>\n",
       "      <td>Donald Trump is against marriage equality. He ...</td>\n",
       "      <td>TRUE</td>\n",
       "    </tr>\n",
       "    <tr>\n",
       "      <th>9</th>\n",
       "      <td>LIAR</td>\n",
       "      <td>We know that more than half of Hillary Clinton...</td>\n",
       "      <td>FALSE</td>\n",
       "    </tr>\n",
       "  </tbody>\n",
       "</table>\n",
       "</div>"
      ],
      "text/plain": [
       "  source                                              title  label\n",
       "0   LIAR  Building a wall on the U.S.-Mexico border will...   TRUE\n",
       "1   LIAR  Wisconsin is on pace to double the number of l...  FALSE\n",
       "2   LIAR  Says John McCain has done nothing to help the ...  FALSE\n",
       "3   LIAR  Suzanne Bonamici supports a plan that will cut...   TRUE\n",
       "4   LIAR  When asked by a reporter whether hes at the ce...  FALSE\n",
       "5   LIAR  Over the past five years the federal governmen...   TRUE\n",
       "6   LIAR  Says that Tennessee law requires that schools ...   TRUE\n",
       "7   LIAR  Says Vice President Joe Biden \"admits that the...  FALSE\n",
       "8   LIAR  Donald Trump is against marriage equality. He ...   TRUE\n",
       "9   LIAR  We know that more than half of Hillary Clinton...  FALSE"
      ]
     },
     "execution_count": 16,
     "metadata": {},
     "output_type": "execute_result"
    }
   ],
   "source": [
    "aggregated_df.head(10)"
   ]
  },
  {
   "cell_type": "code",
   "execution_count": 17,
   "metadata": {},
   "outputs": [],
   "source": [
    "import re\n",
    "\n",
    "def preprocess_text(text):\n",
    "    \"\"\"Method to convert titles into more processed form before using\"\"\"\n",
    "    text = text.lower()\n",
    "    text = re.sub(r'http\\S+|www\\S+', '', text)\n",
    "\n",
    "    text = re.sub(r'[^a-zA-Z\\s]', '', text)\n",
    "    return text.strip()\n",
    "\n",
    "aggregated_df['title'] = aggregated_df['title'].apply(preprocess_text)"
   ]
  },
  {
   "cell_type": "code",
   "execution_count": 18,
   "metadata": {},
   "outputs": [
    {
     "data": {
      "text/html": [
       "<div>\n",
       "<style scoped>\n",
       "    .dataframe tbody tr th:only-of-type {\n",
       "        vertical-align: middle;\n",
       "    }\n",
       "\n",
       "    .dataframe tbody tr th {\n",
       "        vertical-align: top;\n",
       "    }\n",
       "\n",
       "    .dataframe thead th {\n",
       "        text-align: right;\n",
       "    }\n",
       "</style>\n",
       "<table border=\"1\" class=\"dataframe\">\n",
       "  <thead>\n",
       "    <tr style=\"text-align: right;\">\n",
       "      <th></th>\n",
       "      <th>source</th>\n",
       "      <th>title</th>\n",
       "      <th>label</th>\n",
       "    </tr>\n",
       "  </thead>\n",
       "  <tbody>\n",
       "    <tr>\n",
       "      <th>0</th>\n",
       "      <td>LIAR</td>\n",
       "      <td>building a wall on the usmexico border will ta...</td>\n",
       "      <td>TRUE</td>\n",
       "    </tr>\n",
       "    <tr>\n",
       "      <th>1</th>\n",
       "      <td>LIAR</td>\n",
       "      <td>wisconsin is on pace to double the number of l...</td>\n",
       "      <td>FALSE</td>\n",
       "    </tr>\n",
       "    <tr>\n",
       "      <th>2</th>\n",
       "      <td>LIAR</td>\n",
       "      <td>says john mccain has done nothing to help the ...</td>\n",
       "      <td>FALSE</td>\n",
       "    </tr>\n",
       "    <tr>\n",
       "      <th>3</th>\n",
       "      <td>LIAR</td>\n",
       "      <td>suzanne bonamici supports a plan that will cut...</td>\n",
       "      <td>TRUE</td>\n",
       "    </tr>\n",
       "    <tr>\n",
       "      <th>4</th>\n",
       "      <td>LIAR</td>\n",
       "      <td>when asked by a reporter whether hes at the ce...</td>\n",
       "      <td>FALSE</td>\n",
       "    </tr>\n",
       "    <tr>\n",
       "      <th>5</th>\n",
       "      <td>LIAR</td>\n",
       "      <td>over the past five years the federal governmen...</td>\n",
       "      <td>TRUE</td>\n",
       "    </tr>\n",
       "    <tr>\n",
       "      <th>6</th>\n",
       "      <td>LIAR</td>\n",
       "      <td>says that tennessee law requires that schools ...</td>\n",
       "      <td>TRUE</td>\n",
       "    </tr>\n",
       "    <tr>\n",
       "      <th>7</th>\n",
       "      <td>LIAR</td>\n",
       "      <td>says vice president joe biden admits that the ...</td>\n",
       "      <td>FALSE</td>\n",
       "    </tr>\n",
       "    <tr>\n",
       "      <th>8</th>\n",
       "      <td>LIAR</td>\n",
       "      <td>donald trump is against marriage equality he w...</td>\n",
       "      <td>TRUE</td>\n",
       "    </tr>\n",
       "    <tr>\n",
       "      <th>9</th>\n",
       "      <td>LIAR</td>\n",
       "      <td>we know that more than half of hillary clinton...</td>\n",
       "      <td>FALSE</td>\n",
       "    </tr>\n",
       "  </tbody>\n",
       "</table>\n",
       "</div>"
      ],
      "text/plain": [
       "  source                                              title  label\n",
       "0   LIAR  building a wall on the usmexico border will ta...   TRUE\n",
       "1   LIAR  wisconsin is on pace to double the number of l...  FALSE\n",
       "2   LIAR  says john mccain has done nothing to help the ...  FALSE\n",
       "3   LIAR  suzanne bonamici supports a plan that will cut...   TRUE\n",
       "4   LIAR  when asked by a reporter whether hes at the ce...  FALSE\n",
       "5   LIAR  over the past five years the federal governmen...   TRUE\n",
       "6   LIAR  says that tennessee law requires that schools ...   TRUE\n",
       "7   LIAR  says vice president joe biden admits that the ...  FALSE\n",
       "8   LIAR  donald trump is against marriage equality he w...   TRUE\n",
       "9   LIAR  we know that more than half of hillary clinton...  FALSE"
      ]
     },
     "execution_count": 18,
     "metadata": {},
     "output_type": "execute_result"
    }
   ],
   "source": [
    "aggregated_df.head(10)\n"
   ]
  },
  {
   "cell_type": "code",
   "execution_count": 19,
   "metadata": {},
   "outputs": [
    {
     "name": "stdout",
     "output_type": "stream",
     "text": [
      "label\n",
      "TRUE     0.685631\n",
      "FALSE    0.314369\n",
      "Name: proportion, dtype: float64\n"
     ]
    }
   ],
   "source": [
    "class_distribution = aggregated_df['label'].value_counts(normalize=True)\n",
    "print(class_distribution)"
   ]
  },
  {
   "cell_type": "code",
   "execution_count": 20,
   "metadata": {},
   "outputs": [],
   "source": [
    "from sklearn.utils import resample\n",
    "\n",
    "majority_class = aggregated_df[aggregated_df['label'] == \"TRUE\"]\n",
    "minority_class = aggregated_df[aggregated_df['label'] == \"FALSE\"]\n",
    "\n",
    "minority_unsampled = resample(minority_class, replace=True, n_samples=len(majority_class), random_state=42)"
   ]
  },
  {
   "cell_type": "code",
   "execution_count": 21,
   "metadata": {},
   "outputs": [],
   "source": [
    "balanced_df = pd.concat([majority_class, minority_unsampled])"
   ]
  },
  {
   "cell_type": "code",
   "execution_count": 22,
   "metadata": {},
   "outputs": [
    {
     "data": {
      "text/plain": [
       "array(['TRUE', 'FALSE'], dtype=object)"
      ]
     },
     "execution_count": 22,
     "metadata": {},
     "output_type": "execute_result"
    }
   ],
   "source": [
    "balanced_df['label'].unique()"
   ]
  },
  {
   "cell_type": "code",
   "execution_count": 23,
   "metadata": {},
   "outputs": [
    {
     "name": "stdout",
     "output_type": "stream",
     "text": [
      "label\n",
      "TRUE     0.5\n",
      "FALSE    0.5\n",
      "Name: proportion, dtype: float64\n"
     ]
    }
   ],
   "source": [
    "class_distribution = balanced_df['label'].value_counts(normalize=True)\n",
    "print(class_distribution)"
   ]
  },
  {
   "cell_type": "code",
   "execution_count": 24,
   "metadata": {},
   "outputs": [],
   "source": [
    "from sklearn.model_selection import train_test_split as tts\n",
    "\n",
    "train_df, test_df = tts(balanced_df, test_size=0.2, random_state=42, stratify=balanced_df['label'])"
   ]
  },
  {
   "cell_type": "code",
   "execution_count": 25,
   "metadata": {},
   "outputs": [
    {
     "data": {
      "text/plain": [
       "np.int64(0)"
      ]
     },
     "execution_count": 25,
     "metadata": {},
     "output_type": "execute_result"
    }
   ],
   "source": [
    "train_df[\"title\"].isnull().sum()"
   ]
  },
  {
   "cell_type": "code",
   "execution_count": 26,
   "metadata": {},
   "outputs": [
    {
     "data": {
      "text/plain": [
       "np.int64(0)"
      ]
     },
     "execution_count": 26,
     "metadata": {},
     "output_type": "execute_result"
    }
   ],
   "source": [
    "test_df['title'].isna().sum()"
   ]
  },
  {
   "cell_type": "code",
   "execution_count": 27,
   "metadata": {},
   "outputs": [
    {
     "name": "stdout",
     "output_type": "stream",
     "text": [
      "[<class 'str'>]\n",
      "[<class 'str'>]\n"
     ]
    }
   ],
   "source": [
    "print(train_df['title'].apply(type).unique())  # Check data types in train_df\n",
    "print(test_df['title'].apply(type).unique())   # Check data types in test_df"
   ]
  },
  {
   "cell_type": "code",
   "execution_count": 28,
   "metadata": {},
   "outputs": [
    {
     "name": "stdout",
     "output_type": "stream",
     "text": [
      "Empty titles in train_df: 5\n",
      "Empty titles in test_df: 0\n"
     ]
    }
   ],
   "source": [
    "print(\"Empty titles in train_df:\", (train_df['title'] == \"\").sum())\n",
    "print(\"Empty titles in test_df:\", (test_df['title'] == \"\").sum())"
   ]
  },
  {
   "cell_type": "code",
   "execution_count": 29,
   "metadata": {},
   "outputs": [
    {
     "name": "stderr",
     "output_type": "stream",
     "text": [
      "C:\\Users\\Admin\\AppData\\Local\\Temp\\ipykernel_6872\\834227359.py:1: FutureWarning: ChainedAssignmentError: behaviour will change in pandas 3.0!\n",
      "You are setting values through chained assignment. Currently this works in certain cases, but when using Copy-on-Write (which will become the default behaviour in pandas 3.0) this will never work to update the original DataFrame or Series, because the intermediate object on which we are setting values will behave as a copy.\n",
      "A typical example is when you are setting values in a column of a DataFrame, like:\n",
      "\n",
      "df[\"col\"][row_indexer] = value\n",
      "\n",
      "Use `df.loc[row_indexer, \"col\"] = values` instead, to perform the assignment in a single step and ensure this keeps updating the original `df`.\n",
      "\n",
      "See the caveats in the documentation: https://pandas.pydata.org/pandas-docs/stable/user_guide/indexing.html#returning-a-view-versus-a-copy\n",
      "\n",
      "  train_df['title'][train_df['title'] == \"\"] = \"empty title\"\n"
     ]
    }
   ],
   "source": [
    "train_df['title'][train_df['title'] == \"\"] = \"empty title\""
   ]
  },
  {
   "cell_type": "code",
   "execution_count": 30,
   "metadata": {},
   "outputs": [],
   "source": [
    "train_df['title'] = train_df['title'].str.strip()\n",
    "test_df['title'] = test_df['title'].str.strip()"
   ]
  },
  {
   "cell_type": "code",
   "execution_count": 31,
   "metadata": {},
   "outputs": [
    {
     "name": "stdout",
     "output_type": "stream",
     "text": [
      "label\n",
      "1    18915\n",
      "0    18915\n",
      "Name: count, dtype: int64\n",
      "label\n",
      "0    4729\n",
      "1    4729\n",
      "Name: count, dtype: int64\n"
     ]
    }
   ],
   "source": [
    "# Map 'TRUE' to 1 and 'FALSE' to 0\n",
    "train_df['label'] = train_df['label'].map({'TRUE': 1, 'FALSE': 0})\n",
    "test_df['label'] = test_df['label'].map({'TRUE': 1, 'FALSE': 0})\n",
    "\n",
    "# Verify the mapping\n",
    "print(train_df['label'].value_counts())\n",
    "print(test_df['label'].value_counts())"
   ]
  },
  {
   "cell_type": "code",
   "execution_count": 32,
   "metadata": {},
   "outputs": [],
   "source": [
    "# test_df.to_csv(\"data/balanced_test_data.csv\", index=False)\n",
    "# train_df.to_csv(\"data/balanced_train_data.csv\", index=False)"
   ]
  }
 ],
 "metadata": {
  "kernelspec": {
   "display_name": "venv",
   "language": "python",
   "name": "python3"
  },
  "language_info": {
   "codemirror_mode": {
    "name": "ipython",
    "version": 3
   },
   "file_extension": ".py",
   "mimetype": "text/x-python",
   "name": "python",
   "nbconvert_exporter": "python",
   "pygments_lexer": "ipython3",
   "version": "3.12.6"
  }
 },
 "nbformat": 4,
 "nbformat_minor": 2
}
